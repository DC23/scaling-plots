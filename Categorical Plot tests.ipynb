{
 "cells": [
  {
   "cell_type": "code",
   "execution_count": 2,
   "metadata": {},
   "outputs": [],
   "source": [
    "import numpy as np\n",
    "from time import sleep\n",
    "from matplotlib import pyplot as plt\n",
    "from matplotlib import colors\n",
    "\n",
    "from scaling_plot import read_dataframe_from_excel\n",
    "\n",
    "%matplotlib inline"
   ]
  },
  {
   "cell_type": "code",
   "execution_count": null,
   "metadata": {
    "collapsed": true
   },
   "outputs": [],
   "source": [
    "class Results(object):\n",
    "    def __init__(self, baseline_time, baseline_label, color):\n",
    "        self.speedups = [1]\n",
    "        self.labels = [baseline_label]\n",
    "        self.colors = [color]\n",
    "        self.baseline_time = baseline_time\n",
    "        self.times = []\n",
    "        \n",
    "         # ugly code to handle Jupyter version differences\n",
    "        try:\n",
    "            # newer versions of TimeItResult contain the average time already\n",
    "            self.times.append(self.baseline_time.average)\n",
    "        except:\n",
    "            # Failing that, older versions have a list of all times\n",
    "            self.times.append(np.mean(self.baseline_time.all_runs))\n",
    "        \n",
    "    def speedup_plot(self, log_scale=False):\n",
    "        ind = np.arange(len(self.speedups))\n",
    "        fig, ax = plt.subplots(figsize=(12,8))\n",
    "        \n",
    "        for name, index, speedup, color in zip(self.labels, ind, self.speedups, self.colors):\n",
    "            ax.bar(\n",
    "                index,\n",
    "                speedup, \n",
    "                width=0.5, \n",
    "                color=color,\n",
    "                label=name,\n",
    "                log=log_scale)\n",
    "            \n",
    "        ax.set_xticks(ind)\n",
    "        ax.set_xticklabels(self.labels)\n",
    "        ax.set_title('Speedup relative to {}'.format(self.labels[0]))\n",
    "        ax.legend(self.labels)\n",
    "        plt.show()\n",
    "        return self\n",
    "        \n",
    "    def walltime_plot(self, log_scale=False):\n",
    "        ind = np.arange(len(self.speedups))\n",
    "        fig, ax = plt.subplots(figsize=(12,8))\n",
    "        \n",
    "        for name, index, walltime, color in zip(self.labels, ind, self.times, self.colors):\n",
    "            ax.bar(\n",
    "                index,\n",
    "                walltime, \n",
    "                width=0.5, \n",
    "                color=color,\n",
    "                label=name,\n",
    "                log=log_scale)\n",
    "            \n",
    "        ax.set_xticks(ind)\n",
    "        ax.set_xticklabels(self.labels)\n",
    "        ax.set_title('Walltime')\n",
    "        ax.legend(self.labels)\n",
    "        plt.show()\n",
    "        return self\n",
    "        \n",
    "    def add_time(self, time, label, color):\n",
    "        \n",
    "        baseline_avg = self.times[0]\n",
    "        # ugly code to handle Jupyter version differences\n",
    "        try:\n",
    "            # newer versions of TimeItResult contain the average time already\n",
    "            self.speedups.append(baseline_avg / time.average)\n",
    "            self.times.append(time.average)\n",
    "        except:\n",
    "            # Failing that, older versions have a list of all times\n",
    "            avg = np.mean(time.all_runs)\n",
    "            self.speedups.append(baseline_avg / avg)\n",
    "            self.times.append(avg)\n",
    "            \n",
    "        self.labels.append(label)\n",
    "        self.colors.append(color)\n",
    "        \n",
    "        # return a reference to self to allow chaining\n",
    "        return self"
   ]
  },
  {
   "cell_type": "code",
   "execution_count": null,
   "metadata": {},
   "outputs": [],
   "source": [
    "times_baseline = %timeit -n 1 -r 1 -o results = sleep(0.5)"
   ]
  },
  {
   "cell_type": "code",
   "execution_count": null,
   "metadata": {
    "collapsed": true
   },
   "outputs": [],
   "source": [
    "results = Results(times_baseline, 'baseline', 'blue')"
   ]
  },
  {
   "cell_type": "code",
   "execution_count": null,
   "metadata": {},
   "outputs": [],
   "source": [
    "t = %timeit -n 1 -r 1 -o results = sleep(0.2)\n",
    "results.add_time(t, '1', 'green');"
   ]
  },
  {
   "cell_type": "code",
   "execution_count": null,
   "metadata": {},
   "outputs": [],
   "source": [
    "t = %timeit -n 1 -r 1 -o results = sleep(0.1)\n",
    "results.add_time(t, '2', 'yellow');"
   ]
  },
  {
   "cell_type": "code",
   "execution_count": null,
   "metadata": {},
   "outputs": [],
   "source": [
    "results.speedup_plot();"
   ]
  },
  {
   "cell_type": "code",
   "execution_count": null,
   "metadata": {},
   "outputs": [],
   "source": [
    "results.walltime_plot();"
   ]
  },
  {
   "cell_type": "markdown",
   "metadata": {},
   "source": [
    "# Spreadsheet Version"
   ]
  },
  {
   "cell_type": "code",
   "execution_count": 20,
   "metadata": {
    "collapsed": true
   },
   "outputs": [],
   "source": [
    "category_column = 'version'# args.category_column\n",
    "baseline_category = 'baseline'\n",
    "\n",
    "usecols = [\n",
    "    category_column,\n",
    "    'walltime']\n",
    "\n",
    "#if args.filter_column:\n",
    "#    usecols.append(args.filter_column)"
   ]
  },
  {
   "cell_type": "code",
   "execution_count": 34,
   "metadata": {},
   "outputs": [],
   "source": [
    "results = read_dataframe_from_excel(\n",
    "    './examples/results.xls', #args.results_file,\n",
    "    'categorical', #worksheet=args.worksheet_name,\n",
    "    usecols=usecols)\n",
    "\n",
    "# filter out incomplete results\n",
    "results = results[results[category_column].notnull() & (results.walltime > 0)]\n",
    "\n",
    "# apply the optional filter column\n",
    "#if args.filter_column:\n",
    "#    results = results[results[args.filter_column] > 0]"
   ]
  },
  {
   "cell_type": "code",
   "execution_count": 35,
   "metadata": {},
   "outputs": [
    {
     "data": {
      "text/html": [
       "<div>\n",
       "<style>\n",
       "    .dataframe thead tr:only-child th {\n",
       "        text-align: right;\n",
       "    }\n",
       "\n",
       "    .dataframe thead th {\n",
       "        text-align: left;\n",
       "    }\n",
       "\n",
       "    .dataframe tbody tr th {\n",
       "        vertical-align: top;\n",
       "    }\n",
       "</style>\n",
       "<table border=\"1\" class=\"dataframe\">\n",
       "  <thead>\n",
       "    <tr style=\"text-align: right;\">\n",
       "      <th></th>\n",
       "      <th>version</th>\n",
       "      <th>walltime</th>\n",
       "    </tr>\n",
       "  </thead>\n",
       "  <tbody>\n",
       "    <tr>\n",
       "      <th>0</th>\n",
       "      <td>baseline</td>\n",
       "      <td>13.1</td>\n",
       "    </tr>\n",
       "    <tr>\n",
       "      <th>1</th>\n",
       "      <td>first change</td>\n",
       "      <td>10.9</td>\n",
       "    </tr>\n",
       "    <tr>\n",
       "      <th>2</th>\n",
       "      <td>baseline</td>\n",
       "      <td>13.0</td>\n",
       "    </tr>\n",
       "  </tbody>\n",
       "</table>\n",
       "</div>"
      ],
      "text/plain": [
       "        version  walltime\n",
       "0      baseline      13.1\n",
       "1  first change      10.9\n",
       "2      baseline      13.0"
      ]
     },
     "execution_count": 35,
     "metadata": {},
     "output_type": "execute_result"
    }
   ],
   "source": [
    "results"
   ]
  },
  {
   "cell_type": "code",
   "execution_count": 36,
   "metadata": {
    "collapsed": true
   },
   "outputs": [],
   "source": [
    "# if there are multiple times for each category then calculate the mean\n",
    "results = results.groupby([category_column]).mean().reset_index()"
   ]
  },
  {
   "cell_type": "code",
   "execution_count": 37,
   "metadata": {},
   "outputs": [
    {
     "data": {
      "text/html": [
       "<div>\n",
       "<style>\n",
       "    .dataframe thead tr:only-child th {\n",
       "        text-align: right;\n",
       "    }\n",
       "\n",
       "    .dataframe thead th {\n",
       "        text-align: left;\n",
       "    }\n",
       "\n",
       "    .dataframe tbody tr th {\n",
       "        vertical-align: top;\n",
       "    }\n",
       "</style>\n",
       "<table border=\"1\" class=\"dataframe\">\n",
       "  <thead>\n",
       "    <tr style=\"text-align: right;\">\n",
       "      <th></th>\n",
       "      <th>version</th>\n",
       "      <th>walltime</th>\n",
       "    </tr>\n",
       "  </thead>\n",
       "  <tbody>\n",
       "    <tr>\n",
       "      <th>0</th>\n",
       "      <td>baseline</td>\n",
       "      <td>13.05</td>\n",
       "    </tr>\n",
       "    <tr>\n",
       "      <th>1</th>\n",
       "      <td>first change</td>\n",
       "      <td>10.90</td>\n",
       "    </tr>\n",
       "  </tbody>\n",
       "</table>\n",
       "</div>"
      ],
      "text/plain": [
       "        version  walltime\n",
       "0      baseline     13.05\n",
       "1  first change     10.90"
      ]
     },
     "execution_count": 37,
     "metadata": {},
     "output_type": "execute_result"
    }
   ],
   "source": [
    "results"
   ]
  },
  {
   "cell_type": "code",
   "execution_count": 38,
   "metadata": {},
   "outputs": [],
   "source": [
    "t1 = float(results.loc[results[category_column] == baseline_category]['walltime'])\n",
    "results['speedup'] = t1 / results['walltime']"
   ]
  },
  {
   "cell_type": "code",
   "execution_count": 39,
   "metadata": {},
   "outputs": [
    {
     "data": {
      "text/html": [
       "<div>\n",
       "<style>\n",
       "    .dataframe thead tr:only-child th {\n",
       "        text-align: right;\n",
       "    }\n",
       "\n",
       "    .dataframe thead th {\n",
       "        text-align: left;\n",
       "    }\n",
       "\n",
       "    .dataframe tbody tr th {\n",
       "        vertical-align: top;\n",
       "    }\n",
       "</style>\n",
       "<table border=\"1\" class=\"dataframe\">\n",
       "  <thead>\n",
       "    <tr style=\"text-align: right;\">\n",
       "      <th></th>\n",
       "      <th>version</th>\n",
       "      <th>walltime</th>\n",
       "      <th>speedup</th>\n",
       "    </tr>\n",
       "  </thead>\n",
       "  <tbody>\n",
       "    <tr>\n",
       "      <th>0</th>\n",
       "      <td>baseline</td>\n",
       "      <td>13.05</td>\n",
       "      <td>1.000000</td>\n",
       "    </tr>\n",
       "    <tr>\n",
       "      <th>1</th>\n",
       "      <td>first change</td>\n",
       "      <td>10.90</td>\n",
       "      <td>1.197248</td>\n",
       "    </tr>\n",
       "  </tbody>\n",
       "</table>\n",
       "</div>"
      ],
      "text/plain": [
       "        version  walltime   speedup\n",
       "0      baseline     13.05  1.000000\n",
       "1  first change     10.90  1.197248"
      ]
     },
     "execution_count": 39,
     "metadata": {},
     "output_type": "execute_result"
    }
   ],
   "source": [
    "results"
   ]
  },
  {
   "cell_type": "code",
   "execution_count": 43,
   "metadata": {},
   "outputs": [
    {
     "data": {
      "text/plain": [
       "['baseline', 'first change']"
      ]
     },
     "execution_count": 43,
     "metadata": {},
     "output_type": "execute_result"
    }
   ],
   "source": [
    "list(results[category_column])"
   ]
  }
 ],
 "metadata": {
  "kernelspec": {
   "display_name": "Python 3",
   "language": "python",
   "name": "python3"
  },
  "language_info": {
   "codemirror_mode": {
    "name": "ipython",
    "version": 3
   },
   "file_extension": ".py",
   "mimetype": "text/x-python",
   "name": "python",
   "nbconvert_exporter": "python",
   "pygments_lexer": "ipython3",
   "version": "3.6.2"
  }
 },
 "nbformat": 4,
 "nbformat_minor": 2
}
