{
 "cells": [
  {
   "cell_type": "code",
   "execution_count": null,
   "metadata": {},
   "outputs": [],
   "source": [
    "import numpy as np\n",
    "from time import sleep\n",
    "from matplotlib import pyplot as plt\n",
    "from matplotlib import colors\n",
    "\n",
    "%matplotlib inline"
   ]
  },
  {
   "cell_type": "code",
   "execution_count": null,
   "metadata": {
    "collapsed": true
   },
   "outputs": [],
   "source": [
    "class Results(object):\n",
    "    def __init__(self, baseline_time, baseline_label, color):\n",
    "        self.speedups = [1]\n",
    "        self.labels = [baseline_label]\n",
    "        self.colors = [color]\n",
    "        self.baseline_time = baseline_time\n",
    "        self.times = []\n",
    "        \n",
    "         # ugly code to handle Jupyter version differences\n",
    "        try:\n",
    "            # newer versions of TimeItResult contain the average time already\n",
    "            self.times.append(self.baseline_time.average)\n",
    "        except:\n",
    "            # Failing that, older versions have a list of all times\n",
    "            self.times.append(np.mean(self.baseline_time.all_runs))\n",
    "        \n",
    "    def speedup_plot(self, log_scale=False):\n",
    "        ind = np.arange(len(self.speedups))\n",
    "        fig, ax = plt.subplots(figsize=(12,8))\n",
    "        \n",
    "        for name, index, speedup, color in zip(self.labels, ind, self.speedups, self.colors):\n",
    "            ax.bar(\n",
    "                index,\n",
    "                speedup, \n",
    "                width=0.5, \n",
    "                color=color,\n",
    "                label=name,\n",
    "                log=log_scale)\n",
    "            \n",
    "        ax.set_xticks(ind)\n",
    "        ax.set_xticklabels(self.labels)\n",
    "        ax.set_title('Speedup relative to {}'.format(self.labels[0]))\n",
    "        ax.legend(self.labels)\n",
    "        plt.show()\n",
    "        return self\n",
    "        \n",
    "    def walltime_plot(self, log_scale=False):\n",
    "        ind = np.arange(len(self.speedups))\n",
    "        fig, ax = plt.subplots(figsize=(12,8))\n",
    "        \n",
    "        for name, index, walltime, color in zip(self.labels, ind, self.times, self.colors):\n",
    "            ax.bar(\n",
    "                index,\n",
    "                walltime, \n",
    "                width=0.5, \n",
    "                color=color,\n",
    "                label=name,\n",
    "                log=log_scale)\n",
    "            \n",
    "        ax.set_xticks(ind)\n",
    "        ax.set_xticklabels(self.labels)\n",
    "        ax.set_title('Walltime')\n",
    "        ax.legend(self.labels)\n",
    "        plt.show()\n",
    "        return self\n",
    "        \n",
    "    def add_time(self, time, label, color):\n",
    "        \n",
    "        baseline_avg = self.times[0]\n",
    "        # ugly code to handle Jupyter version differences\n",
    "        try:\n",
    "            # newer versions of TimeItResult contain the average time already\n",
    "            self.speedups.append(baseline_avg / time.average)\n",
    "            self.times.append(time.average)\n",
    "        except:\n",
    "            # Failing that, older versions have a list of all times\n",
    "            avg = np.mean(time.all_runs)\n",
    "            self.speedups.append(baseline_avg / avg)\n",
    "            self.times.append(avg)\n",
    "            \n",
    "        self.labels.append(label)\n",
    "        self.colors.append(color)\n",
    "        \n",
    "        # return a reference to self to allow chaining\n",
    "        return self"
   ]
  },
  {
   "cell_type": "code",
   "execution_count": null,
   "metadata": {},
   "outputs": [],
   "source": [
    "times_baseline = %timeit -n 1 -r 1 -o results = sleep(0.5)"
   ]
  },
  {
   "cell_type": "code",
   "execution_count": null,
   "metadata": {
    "collapsed": true
   },
   "outputs": [],
   "source": [
    "results = Results(times_baseline, 'baseline', 'blue')"
   ]
  },
  {
   "cell_type": "code",
   "execution_count": null,
   "metadata": {},
   "outputs": [],
   "source": [
    "t = %timeit -n 1 -r 1 -o results = sleep(0.2)\n",
    "results.add_time(t, '1', 'green');"
   ]
  },
  {
   "cell_type": "code",
   "execution_count": null,
   "metadata": {},
   "outputs": [],
   "source": [
    "t = %timeit -n 1 -r 1 -o results = sleep(0.1)\n",
    "results.add_time(t, '2', 'yellow');"
   ]
  },
  {
   "cell_type": "code",
   "execution_count": null,
   "metadata": {},
   "outputs": [],
   "source": [
    "results.speedup_plot();"
   ]
  },
  {
   "cell_type": "code",
   "execution_count": null,
   "metadata": {},
   "outputs": [],
   "source": [
    "results.walltime_plot();"
   ]
  }
 ],
 "metadata": {
  "kernelspec": {
   "display_name": "Python 3",
   "language": "python",
   "name": "python3"
  },
  "language_info": {
   "codemirror_mode": {
    "name": "ipython",
    "version": 3
   },
   "file_extension": ".py",
   "mimetype": "text/x-python",
   "name": "python",
   "nbconvert_exporter": "python",
   "pygments_lexer": "ipython3",
   "version": "3.6.2"
  }
 },
 "nbformat": 4,
 "nbformat_minor": 2
}
